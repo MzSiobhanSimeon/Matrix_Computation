{
 "cells": [
  {
   "cell_type": "markdown",
   "id": "e8c2ca9d",
   "metadata": {},
   "source": [
    "## Introduction"
   ]
  },
  {
   "cell_type": "markdown",
   "id": "53d8b88b",
   "metadata": {},
   "source": [
    "This project demonstrates the application of NumPy for computation and SciPy for linear algebra operations on two arrays. The focus is on three key areas: general linear algebra operations, permutation techniques, and LU decomposition.\n",
    "\n",
    "NumPy, a fundamental package for scientific computing in Python, provides powerful tools for array manipulation and basic computations. SciPy's linear algebra module builds upon NumPy, offering specialized routines for advanced linear algebra operations.\n",
    "\n",
    "In this project, we utilize these libraries to perform:\n",
    "\n",
    "1. Linear Algebra Operations: Exploring matrix operations, transformations, and solutions to linear systems using SciPy's linear algebra module.\n",
    "\n",
    "2. Permutation Techniques: Implementing and analyzing various permutation methods on our arrays, showcasing the computational capabilities of NumPy in handling array rearrangements.\n",
    "\n",
    "3. LU Decomposition: Applying the Lower-Upper (LU) decomposition method to factorize our matrices, demonstrating how this technique can be used to solve linear systems efficiently and compute determinants."
   ]
  },
  {
   "cell_type": "markdown",
   "id": "c75ef1ff",
   "metadata": {},
   "source": [
    "## Objective"
   ]
  },
  {
   "cell_type": "markdown",
   "id": "0db91749",
   "metadata": {},
   "source": [
    "- Demonstrate proficiency in using NumPy for computations and SciPy for complex linear algebra operations on two arrays.\n",
    "- Implement and analyze permutation techniques using NumPy to understand their impact on array manipulation and computation.\n",
    "- Apply LU decomposition using SciPy's linear algebra module to showcase its utility in solving linear systems and computing determinants.\n",
    "- Provide a practical example of how these advanced linear algebra techniques can be applied in real-world scientific computing and data analysis scenarios."
   ]
  },
  {
   "cell_type": "code",
   "execution_count": 44,
   "id": "a3cd581f",
   "metadata": {},
   "outputs": [],
   "source": [
    "#import python libraries\n",
    "import numpy as np\n",
    "from scipy.linalg import lu"
   ]
  },
  {
   "cell_type": "code",
   "execution_count": 47,
   "id": "6ec4d4b4",
   "metadata": {},
   "outputs": [
    {
     "name": "stdout",
     "output_type": "stream",
     "text": [
      "Matrix A = \n",
      " [[2 3 4 6]\n",
      " [1 4 5 1]\n",
      " [6 7 8 9]\n",
      " [4 2 9 6]]\n",
      "\n",
      "Matrix B = \n",
      " [[10 12  1  6]\n",
      " [13  2  4  5]\n",
      " [ 7  8  9 10]\n",
      " [ 2  4  3  2]]\n"
     ]
    }
   ],
   "source": [
    "#declaring variables for matrix A and B using np array\n",
    "A = np.array([[2,3,4,6],[1,4,5,1],[6,7,8,9],[4,2,9,6]])\n",
    "B = np.array([[10,12,1,6],[13,2,4,5],[7,8,9,10],[2,4,3,2]])\n",
    "print( f'Matrix A = \\n {A}\\n\\nMatrix B = \\n {B}')"
   ]
  },
  {
   "cell_type": "code",
   "execution_count": 48,
   "id": "2f8694a4",
   "metadata": {},
   "outputs": [
    {
     "data": {
      "text/plain": [
       "array([[12, 15,  5, 12],\n",
       "       [14,  6,  9,  6],\n",
       "       [13, 15, 17, 19],\n",
       "       [ 6,  6, 12,  8]])"
      ]
     },
     "execution_count": 48,
     "metadata": {},
     "output_type": "execute_result"
    }
   ],
   "source": [
    "# Addition of A and B\n",
    "A+B"
   ]
  },
  {
   "cell_type": "code",
   "execution_count": 49,
   "id": "8017803d",
   "metadata": {},
   "outputs": [
    {
     "data": {
      "text/plain": [
       "array([[12, 15,  5, 12],\n",
       "       [14,  6,  9,  6],\n",
       "       [13, 15, 17, 19],\n",
       "       [ 6,  6, 12,  8]])"
      ]
     },
     "execution_count": 49,
     "metadata": {},
     "output_type": "execute_result"
    }
   ],
   "source": [
    "# Addition of B and A\n",
    "B+A"
   ]
  },
  {
   "cell_type": "code",
   "execution_count": 50,
   "id": "4fa9d92f",
   "metadata": {},
   "outputs": [
    {
     "data": {
      "text/plain": [
       "array([[ -8,  -9,   3,   0],\n",
       "       [-12,   2,   1,  -4],\n",
       "       [ -1,  -1,  -1,  -1],\n",
       "       [  2,  -2,   6,   4]])"
      ]
     },
     "execution_count": 50,
     "metadata": {},
     "output_type": "execute_result"
    }
   ],
   "source": [
    "# Substrating B from A\n",
    "A-B"
   ]
  },
  {
   "cell_type": "code",
   "execution_count": 51,
   "id": "6f86bbc5",
   "metadata": {},
   "outputs": [
    {
     "data": {
      "text/plain": [
       "array([[ 5.0300e-02, -1.9510e-01,  8.8010e-01, -1.0635e+00],\n",
       "       [-3.0790e-01,  7.3200e-02, -2.1540e-01,  2.3181e+00],\n",
       "       [-1.5000e-03, -2.4400e-02,  9.3290e-01, -9.9100e-02],\n",
       "       [-6.0670e-01,  2.9270e-01,  6.3820e-01,  8.9740e-01]])"
      ]
     },
     "execution_count": 51,
     "metadata": {},
     "output_type": "execute_result"
    }
   ],
   "source": [
    "# Dividing A by B \n",
    "B_inv = np.linalg.inv(B)\n",
    "np.dot(A, B_inv)\n",
    "np.round(np.dot(A, B_inv), 4)"
   ]
  },
  {
   "cell_type": "code",
   "execution_count": 52,
   "id": "3f3d3036",
   "metadata": {},
   "outputs": [
    {
     "data": {
      "text/plain": [
       "array([[-3.1076e+00, -6.4570e-01,  3.8688e+00, -1.5879e+00],\n",
       "       [-5.2651e+00, -2.5906e+00,  3.7743e+00,  8.6880e-01],\n",
       "       [-1.7060e-01, -2.3600e-02,  1.2310e+00, -5.2000e-03],\n",
       "       [-2.6250e-01,  4.2520e-01,  5.0920e-01, -2.3880e-01]])"
      ]
     },
     "execution_count": 52,
     "metadata": {},
     "output_type": "execute_result"
    }
   ],
   "source": [
    "# Dividing B by A\n",
    "A_inv = np.linalg.inv(A)\n",
    "np.dot(B, A_inv)\n",
    "np.round(np.dot(B, A_inv), 4)"
   ]
  },
  {
   "cell_type": "code",
   "execution_count": 53,
   "id": "65c6618f",
   "metadata": {},
   "outputs": [
    {
     "data": {
      "text/plain": [
       "array([[ 99,  86,  68,  79],\n",
       "       [ 99,  64,  65,  78],\n",
       "       [225, 186, 133, 169],\n",
       "       [141, 148, 111, 136]])"
      ]
     },
     "execution_count": 53,
     "metadata": {},
     "output_type": "execute_result"
    }
   ],
   "source": [
    "# Multiplication of A, B\n",
    "A .dot(B)"
   ]
  },
  {
   "cell_type": "code",
   "execution_count": 54,
   "id": "00d8f54d",
   "metadata": {},
   "outputs": [
    {
     "data": {
      "text/plain": [
       "array([[ 62,  97, 162, 117],\n",
       "       [ 72,  85, 139, 146],\n",
       "       [116, 136, 230, 191],\n",
       "       [ 34,  47,  70,  55]])"
      ]
     },
     "execution_count": 54,
     "metadata": {},
     "output_type": "execute_result"
    }
   ],
   "source": [
    "# Multiplication of B, A\n",
    "B .dot(A)"
   ]
  },
  {
   "cell_type": "code",
   "execution_count": 55,
   "id": "74c753a7",
   "metadata": {},
   "outputs": [
    {
     "data": {
      "text/plain": [
       "array([[-0.53805774, -0.22834646,  0.34383202,  0.06036745],\n",
       "       [ 0.02887139,  0.17322835,  0.0839895 , -0.18372703],\n",
       "       [ 0.02099738,  0.12598425, -0.12073491,  0.13910761],\n",
       "       [ 0.3175853 , -0.09448819, -0.07611549, -0.02099738]])"
      ]
     },
     "execution_count": 55,
     "metadata": {},
     "output_type": "execute_result"
    }
   ],
   "source": [
    "# the inverse of A\n",
    "inverse_A = np.linalg.inv(A)\n",
    "inverse_A"
   ]
  },
  {
   "cell_type": "code",
   "execution_count": 56,
   "id": "26b1946b",
   "metadata": {},
   "outputs": [
    {
     "data": {
      "text/plain": [
       "array([[ 0.00609756,  0.09756098, -0.06504065,  0.06300813],\n",
       "       [ 0.05945122, -0.04878049, -0.05081301,  0.1976626 ],\n",
       "       [-0.12195122,  0.04878049, -0.03252033,  0.40650407],\n",
       "       [ 0.05792683, -0.07317073,  0.21544715, -0.56808943]])"
      ]
     },
     "execution_count": 56,
     "metadata": {},
     "output_type": "execute_result"
    }
   ],
   "source": [
    "#  the inverse of B\n",
    "inverse_B = np.linalg.inv(B)\n",
    "inverse_B"
   ]
  },
  {
   "cell_type": "code",
   "execution_count": 57,
   "id": "65397cee",
   "metadata": {},
   "outputs": [
    {
     "data": {
      "text/plain": [
       "array([[-0.05529015, -0.02899942,  0.04842306,  0.02643743],\n",
       "       [-0.01041067,  0.01190705, -0.0529949 ,  0.17457536],\n",
       "       [ 0.03039978, -0.02016516,  0.02612936, -0.10187941],\n",
       "       [ 0.00438512,  0.03341655, -0.01790325, -0.01767919]])"
      ]
     },
     "execution_count": 57,
     "metadata": {},
     "output_type": "execute_result"
    }
   ],
   "source": [
    "# Multipliation of inverse of A, inverse of B\n",
    "inverse_A .dot(inverse_B)"
   ]
  },
  {
   "cell_type": "code",
   "execution_count": 58,
   "id": "db670883",
   "metadata": {},
   "outputs": [
    {
     "data": {
      "text/plain": [
       "(array([[0., 0., 0., 1.],\n",
       "        [0., 1., 0., 0.],\n",
       "        [1., 0., 0., 0.],\n",
       "        [0., 0., 1., 0.]]),\n",
       " array([[ 1.        ,  0.        ,  0.        ,  0.        ],\n",
       "        [ 0.16666667,  1.        ,  0.        ,  0.        ],\n",
       "        [ 0.66666667, -0.94117647,  1.        ,  0.        ],\n",
       "        [ 0.33333333,  0.23529412,  0.0661157 ,  1.        ]]),\n",
       " array([[ 6.        ,  7.        ,  8.        ,  9.        ],\n",
       "        [ 0.        ,  2.83333333,  3.66666667, -0.5       ],\n",
       "        [ 0.        ,  0.        ,  7.11764706, -0.47058824],\n",
       "        [ 0.        ,  0.        ,  0.        ,  3.14876033]]))"
      ]
     },
     "execution_count": 58,
     "metadata": {},
     "output_type": "execute_result"
    }
   ],
   "source": [
    "# Lu deccomposition of A\n",
    "lu(A)"
   ]
  },
  {
   "cell_type": "code",
   "execution_count": 59,
   "id": "40791a83",
   "metadata": {},
   "outputs": [
    {
     "data": {
      "text/plain": [
       "(array([[0., 1., 0., 0.],\n",
       "        [1., 0., 0., 0.],\n",
       "        [0., 0., 1., 0.],\n",
       "        [0., 0., 0., 1.]]),\n",
       " array([[1.        , 0.        , 0.        , 0.        ],\n",
       "        [0.76923077, 1.        , 0.        , 0.        ],\n",
       "        [0.53846154, 0.66176471, 1.        , 0.        ],\n",
       "        [0.15384615, 0.35294118, 0.37924866, 1.        ]]),\n",
       " array([[13.        ,  2.        ,  4.        ,  5.        ],\n",
       "        [ 0.        , 10.46153846, -2.07692308,  2.15384615],\n",
       "        [ 0.        ,  0.        ,  8.22058824,  5.88235294],\n",
       "        [ 0.        ,  0.        ,  0.        , -1.76028623]]))"
      ]
     },
     "execution_count": 59,
     "metadata": {},
     "output_type": "execute_result"
    }
   ],
   "source": [
    "# Lu deccomposition of B\n",
    "lu(B)"
   ]
  },
  {
   "cell_type": "code",
   "execution_count": 60,
   "id": "7f9c9056",
   "metadata": {},
   "outputs": [
    {
     "name": "stdout",
     "output_type": "stream",
     "text": [
      "P1 =\n",
      " [[ 1.          0.          0.          0.        ]\n",
      " [ 0.16666667  1.          0.          0.        ]\n",
      " [ 0.66666667 -0.94117647  1.          0.        ]\n",
      " [ 0.33333333  0.23529412  0.0661157   1.        ]]\n",
      "L1 =\n",
      " [[ 1.          0.          0.          0.        ]\n",
      " [ 0.16666667  1.          0.          0.        ]\n",
      " [ 0.66666667 -0.94117647  1.          0.        ]\n",
      " [ 0.33333333  0.23529412  0.0661157   1.        ]]\n",
      "U1 =\n",
      " [[ 6.          7.          8.          9.        ]\n",
      " [ 0.          2.83333333  3.66666667 -0.5       ]\n",
      " [ 0.          0.          7.11764706 -0.47058824]\n",
      " [ 0.          0.          0.          3.14876033]]\n"
     ]
    }
   ],
   "source": [
    "# Pemutation, lower limit and upper limit of A\n",
    "P1, L1, U1 = lu(A)\n",
    "print(\"P1 =\\n\", L1)\n",
    "print(\"L1 =\\n\", L1)\n",
    "print(\"U1 =\\n\", U1)"
   ]
  },
  {
   "cell_type": "code",
   "execution_count": 61,
   "id": "fc43f2a4",
   "metadata": {},
   "outputs": [
    {
     "name": "stdout",
     "output_type": "stream",
     "text": [
      "P2 =\n",
      " [[ 1.          0.          0.          0.        ]\n",
      " [ 0.16666667  1.          0.          0.        ]\n",
      " [ 0.66666667 -0.94117647  1.          0.        ]\n",
      " [ 0.33333333  0.23529412  0.0661157   1.        ]]\n",
      "L2 =\n",
      " [[ 1.          0.          0.          0.        ]\n",
      " [ 0.16666667  1.          0.          0.        ]\n",
      " [ 0.66666667 -0.94117647  1.          0.        ]\n",
      " [ 0.33333333  0.23529412  0.0661157   1.        ]]\n",
      "U2 =\n",
      " [[ 6.          7.          8.          9.        ]\n",
      " [ 0.          2.83333333  3.66666667 -0.5       ]\n",
      " [ 0.          0.          7.11764706 -0.47058824]\n",
      " [ 0.          0.          0.          3.14876033]]\n"
     ]
    }
   ],
   "source": [
    "# Pemutation, lower limit and upper limit of B\n",
    "P2, L2, U2 = lu(B)\n",
    "print(\"P2 =\\n\", L1)\n",
    "print(\"L2 =\\n\", L1)\n",
    "print(\"U2 =\\n\", U1)"
   ]
  }
 ],
 "metadata": {
  "kernelspec": {
   "display_name": "Python 3 (ipykernel)",
   "language": "python",
   "name": "python3"
  },
  "language_info": {
   "codemirror_mode": {
    "name": "ipython",
    "version": 3
   },
   "file_extension": ".py",
   "mimetype": "text/x-python",
   "name": "python",
   "nbconvert_exporter": "python",
   "pygments_lexer": "ipython3",
   "version": "3.11.5"
  }
 },
 "nbformat": 4,
 "nbformat_minor": 5
}
